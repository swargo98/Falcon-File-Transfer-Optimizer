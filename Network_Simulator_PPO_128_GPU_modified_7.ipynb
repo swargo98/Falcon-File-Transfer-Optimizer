{
 "cells": [
  {
   "cell_type": "markdown",
   "metadata": {
    "colab_type": "text",
    "id": "view-in-github"
   },
   "source": [
    "<a href=\"https://colab.research.google.com/github/swargo98/Falcon-File-Transfer-Optimizer/blob/master/Network_Simulator_PPO_128.ipynb\" target=\"_parent\"><img src=\"https://colab.research.google.com/assets/colab-badge.svg\" alt=\"Open In Colab\"/></a>"
   ]
  },
  {
   "cell_type": "code",
   "metadata": {
    "id": "QNaD2RGWAoDt",
    "ExecuteTime": {
     "end_time": "2024-12-05T02:24:02.217737Z",
     "start_time": "2024-12-05T02:24:02.215972Z"
    }
   },
   "source": [
    "# Important params: k, max_steps, episodeds, action space, randomization of state, entropy?\n",
    "# try changing std with covariance matrix"
   ],
   "outputs": [],
   "execution_count": 1
  },
  {
   "cell_type": "code",
   "metadata": {
    "id": "qHxknfVy-1s0",
    "ExecuteTime": {
     "end_time": "2024-12-05T02:24:03.469399Z",
     "start_time": "2024-12-05T02:24:02.268907Z"
    }
   },
   "source": [
    "import numpy as np\n",
    "import torch\n",
    "import torch.nn as nn\n",
    "import torch.optim as optim\n",
    "from torch.distributions import Normal\n",
    "import gym\n",
    "from gym import spaces\n",
    "import matplotlib.pyplot as plt\n",
    "import random\n",
    "from queue import PriorityQueue"
   ],
   "outputs": [],
   "execution_count": 2
  },
  {
   "metadata": {
    "ExecuteTime": {
     "end_time": "2024-12-05T02:24:03.599312Z",
     "start_time": "2024-12-05T02:24:03.524600Z"
    }
   },
   "cell_type": "code",
   "source": [
    "device = torch.device(\"cuda\" if torch.cuda.is_available() else \"cpu\")\n",
    "print(f\"Using device: {device}\")"
   ],
   "outputs": [
    {
     "name": "stdout",
     "output_type": "stream",
     "text": [
      "Using device: cuda\n"
     ]
    }
   ],
   "execution_count": 3
  },
  {
   "cell_type": "code",
   "metadata": {
    "id": "hnG4LZUsrXLw",
    "ExecuteTime": {
     "end_time": "2024-12-05T02:24:03.611753Z",
     "start_time": "2024-12-05T02:24:03.609201Z"
    }
   },
   "source": [
    "def save_model(agent, filename_policy, filename_value):\n",
    "    torch.save(agent.policy.state_dict(), filename_policy)\n",
    "    torch.save(agent.value_function.state_dict(), filename_value)\n",
    "    print(\"Model saved successfully.\")\n",
    "\n",
    "\n",
    "def load_model(agent, filename_policy, filename_value):\n",
    "    agent.policy.load_state_dict(torch.load(filename_policy))\n",
    "    agent.policy_old.load_state_dict(agent.policy.state_dict())\n",
    "    agent.value_function.load_state_dict(torch.load(filename_value))\n",
    "    print(\"Model loaded successfully.\")"
   ],
   "outputs": [],
   "execution_count": 4
  },
  {
   "cell_type": "code",
   "metadata": {
    "id": "3jd3Oq5Araq6",
    "ExecuteTime": {
     "end_time": "2024-12-05T02:24:03.665750Z",
     "start_time": "2024-12-05T02:24:03.662962Z"
    }
   },
   "source": [
    "class SimulatorState:\n",
    "    def __init__(self, sender_buffer_remaining_capacity=0, receiver_buffer_remaining_capacity=0,\n",
    "                 read_throughput=0, write_throughput=0, network_throughput=0,\n",
    "                 read_thread=0, write_thread=0, network_thread=0) -> None:\n",
    "        self.sender_buffer_remaining_capacity = sender_buffer_remaining_capacity\n",
    "        self.receiver_buffer_remaining_capacity = receiver_buffer_remaining_capacity\n",
    "        self.read_throughput = read_throughput\n",
    "        self.write_throughput = write_throughput\n",
    "        self.network_throughput = network_throughput\n",
    "        self.read_thread = read_thread\n",
    "        self.write_thread = write_thread\n",
    "        self.network_thread = network_thread\n",
    "\n",
    "    def copy(self):\n",
    "        # Return a new SimulatorState instance with the same attribute values\n",
    "        return SimulatorState(\n",
    "            sender_buffer_remaining_capacity=self.sender_buffer_remaining_capacity,\n",
    "            receiver_buffer_remaining_capacity=self.receiver_buffer_remaining_capacity,\n",
    "            read_throughput=self.read_throughput,\n",
    "            write_throughput=self.write_throughput,\n",
    "            network_throughput=self.network_throughput,\n",
    "            read_thread=self.read_thread,\n",
    "            write_thread=self.write_thread,\n",
    "            network_thread=self.network_thread\n",
    "        )\n",
    "\n",
    "    def to_array(self):\n",
    "        # Convert the state to a NumPy array\n",
    "        return np.array([\n",
    "            self.sender_buffer_remaining_capacity,\n",
    "            self.receiver_buffer_remaining_capacity,\n",
    "            self.read_throughput,\n",
    "            self.write_throughput,\n",
    "            self.network_throughput,\n",
    "            self.read_thread,\n",
    "            self.write_thread,\n",
    "            self.network_thread\n",
    "        ], dtype=np.float32)"
   ],
   "outputs": [],
   "execution_count": 5
  },
  {
   "cell_type": "code",
   "metadata": {
    "id": "q69lej5F6lRk",
    "ExecuteTime": {
     "end_time": "2024-12-05T02:24:03.718228Z",
     "start_time": "2024-12-05T02:24:03.708804Z"
    }
   },
   "source": [
    "from typing_extensions import final\n",
    "class NetworkSystemSimulator:\n",
    "    def __init__(self, read_thread = 1, network_thread = 1, write_thread = 1, sender_buffer_capacity = 10, receiver_buffer_capacity = 10, read_throughput_per_thread = 3, write_throughput_per_thread = 1, network_throughput_per_thread = 2, read_bandwidth = 6, write_bandwidth = 6, network_bandwidth = 6, read_background_traffic = 0, write_background_traffic = 0, network_background_traffic = 0, track_states = False):\n",
    "        self.sender_buffer_capacity = sender_buffer_capacity\n",
    "        self.receiver_buffer_capacity = receiver_buffer_capacity\n",
    "        self.read_throughput_per_thread = read_throughput_per_thread\n",
    "        self.write_throughput_per_thread = write_throughput_per_thread\n",
    "        self.network_throughput_per_thread = network_throughput_per_thread\n",
    "        self.read_bandwidth = read_bandwidth\n",
    "        self.write_bandwidth = write_bandwidth\n",
    "        self.network_bandwidth = network_bandwidth\n",
    "        self.read_background_traffic = read_background_traffic\n",
    "        self.write_background_traffic = write_background_traffic\n",
    "        self.network_background_traffic = network_background_traffic\n",
    "        self.read_thread = read_thread\n",
    "        self.network_thread = network_thread\n",
    "        self.write_thread = write_thread\n",
    "        self.track_states = track_states\n",
    "        self.K = 1.02\n",
    "\n",
    "        # Initialize the buffers\n",
    "        self.sender_buffer_in_use = max(min(self.read_throughput_per_thread * read_thread - self.network_throughput_per_thread * self.network_thread, self.sender_buffer_capacity), 0)\n",
    "        self.receiver_buffer_in_use = max(min(self.network_throughput_per_thread * network_thread - self.write_throughput_per_thread * self.write_thread, self.receiver_buffer_capacity), 0)\n",
    "\n",
    "        print(f\"Initial Sender Buffer: {self.sender_buffer_in_use}, Receiver Buffer: {self.receiver_buffer_in_use}\")\n",
    "\n",
    "\n",
    "        if self.track_states:\n",
    "            with open('optimizer_call_level_states.csv', 'w') as f:\n",
    "                f.write(\"Read Thread, Network Thread, Write Thread, Utility, Read Throughput, Sender Buffer, Network Throughput, Receiver Buffer, Write Throughput\\n\")\n",
    "\n",
    "            with open('thread_level_states.csv', 'w') as f:\n",
    "                f.write(\"Thread Type, Throughput, Sender Buffer, Receiver Buffer\\n\")\n",
    "                f.write(f\"Initial, 0, {self.sender_buffer_in_use}, {self.receiver_buffer_in_use}\\n\")\n",
    "\n",
    "    def read_thread_task(self, time):\n",
    "        throughput_increase = 0\n",
    "        if self.sender_buffer_in_use < self.sender_buffer_capacity:\n",
    "            read_throughput_temp = min(self.read_throughput_per_thread, self.sender_buffer_capacity - self.sender_buffer_in_use)\n",
    "            throughput_increase = min(read_throughput_temp, self.read_bandwidth-self.read_throughput)\n",
    "            self.read_throughput += throughput_increase\n",
    "            self.sender_buffer_in_use += throughput_increase\n",
    "\n",
    "        time_taken = throughput_increase / self.read_throughput_per_thread\n",
    "        next_time = time + time_taken + 0.001\n",
    "        if next_time < 1:\n",
    "            self.thread_queue.put((next_time, \"read\"))\n",
    "\n",
    "        if throughput_increase > 0 and self.track_states:\n",
    "            with open('thread_level_states.csv', 'a') as f:\n",
    "                f.write(f\"Read, {throughput_increase}, {self.sender_buffer_in_use}, {self.receiver_buffer_in_use}\\n\")\n",
    "        return next_time\n",
    "\n",
    "    def network_thread_task(self, time):\n",
    "        throughput_increase = 0\n",
    "        # print(f\"Network Thread start: Network Throughput: {throughput_increase}, Sender Buffer: {self.sender_buffer_in_use}, Receiver Buffer: {self.receiver_buffer_in_use}\")\n",
    "        if self.sender_buffer_in_use > 0 and self.receiver_buffer_in_use < self.receiver_buffer_capacity:\n",
    "            network_throughput_temp = min(self.network_throughput_per_thread, self.sender_buffer_in_use, self.receiver_buffer_capacity - self.receiver_buffer_in_use)\n",
    "            throughput_increase = min(network_throughput_temp, self.network_bandwidth-self.network_throughput)\n",
    "            self.network_throughput += throughput_increase\n",
    "            self.sender_buffer_in_use -= throughput_increase\n",
    "            self.receiver_buffer_in_use += throughput_increase\n",
    "\n",
    "        time_taken = throughput_increase / self.network_throughput_per_thread\n",
    "        next_time = time + time_taken + 0.001\n",
    "        if next_time < 1:\n",
    "            self.thread_queue.put((next_time, \"network\"))\n",
    "        # print(f\"Network Thread end: Network Throughput: {throughput_increase}, Sender Buffer: {self.sender_buffer_in_use}, Receiver Buffer: {self.receiver_buffer_in_use}\")\n",
    "        if throughput_increase > 0 and self.track_states:\n",
    "            with open('thread_level_states.csv', 'a') as f:\n",
    "                f.write(f\"Network, {throughput_increase}, {self.sender_buffer_in_use}, {self.receiver_buffer_in_use}\\n\")\n",
    "        return next_time\n",
    "\n",
    "    def write_thread_task(self, time):\n",
    "        throughput_increase = 0\n",
    "        if self.receiver_buffer_in_use > 0:\n",
    "            write_throughput_temp = min(self.write_throughput_per_thread, self.receiver_buffer_in_use)\n",
    "            throughput_increase = min(write_throughput_temp, self.write_bandwidth-self.write_throughput)\n",
    "            self.write_throughput += throughput_increase\n",
    "            self.receiver_buffer_in_use -= throughput_increase\n",
    "\n",
    "        time_taken = throughput_increase / self.write_throughput_per_thread\n",
    "        next_time = time + time_taken + 0.001\n",
    "        if next_time < 1:\n",
    "            self.thread_queue.put((next_time, \"write\"))\n",
    "        # print(f\"Write Thread: Sender Buffer: {self.sender_buffer_in_use}, Receiver Buffer: {self.receiver_buffer_in_use}\")\n",
    "        if throughput_increase > 0 and self.track_states:\n",
    "            with open('thread_level_states.csv', 'a') as f:\n",
    "                f.write(f\"Write, {throughput_increase}, {self.sender_buffer_in_use}, {self.receiver_buffer_in_use}\\n\")\n",
    "        return next_time\n",
    "\n",
    "    def get_utility_value_dummy(self, threads):\n",
    "        x1, x2, x3 = map(int, threads)\n",
    "        return ((x1 - 1) ** 2 + (x2 - 2) ** 2 + (x3 + 3) ** 2 + \\\n",
    "            np.sin(2 * x1) + np.sin(2 * x2) + np.cos(2 * x3)) * -1\n",
    "\n",
    "    def get_utility_value(self, threads):\n",
    "        read_thread, network_thread, write_thread = map(int, threads)\n",
    "        self.read_thread = read_thread\n",
    "        self.network_thread = network_thread\n",
    "        self.write_thread = write_thread\n",
    "\n",
    "        self.thread_queue = PriorityQueue() # Key: time, Value: thread_type\n",
    "        self.read_throughput = 0\n",
    "        self.network_throughput = 0\n",
    "        self.write_throughput = 0\n",
    "\n",
    "        # populate the thread queue\n",
    "        for i in range(read_thread):\n",
    "            self.thread_queue.put((0, \"read\"))\n",
    "        for i in range(network_thread):\n",
    "            self.thread_queue.put((0, \"network\"))\n",
    "        for i in range(write_thread):\n",
    "            self.thread_queue.put((0, \"write\"))\n",
    "\n",
    "        read_thread_finish_time = 0\n",
    "        network_thread_finish_time = 0\n",
    "        write_thread_finish_time = 0\n",
    "\n",
    "        while not self.thread_queue.empty():\n",
    "            time, thread_type = self.thread_queue.get()\n",
    "            if thread_type == \"read\":\n",
    "                read_thread_finish_time = self.read_thread_task(time)\n",
    "            elif thread_type == \"network\":\n",
    "                network_thread_finish_time = self.network_thread_task(time)\n",
    "            elif thread_type == \"write\":\n",
    "                write_thread_finish_time = self.write_thread_task(time)\n",
    "\n",
    "        self.read_throughput = self.read_throughput / read_thread_finish_time\n",
    "        self.network_throughput = self.network_throughput / network_thread_finish_time\n",
    "        self.write_throughput = self.write_throughput / write_thread_finish_time\n",
    "\n",
    "        self.sender_buffer_in_use = max(self.sender_buffer_in_use, 0)\n",
    "        self.receiver_buffer_in_use = max(self.receiver_buffer_in_use, 0)\n",
    "\n",
    "        utility = (self.read_throughput/self.K ** read_thread) + (self.network_throughput/self.K ** network_thread) + (self.write_throughput/self.K ** write_thread)\n",
    "\n",
    "        # print(f\"Read thread: {read_thread}, Network thread: {network_thread}, Write thread: {write_thread}, Utility: {utility}\")\n",
    "\n",
    "        if self.track_states:\n",
    "            with open('optimizer_call_level_states.csv', 'a') as f:\n",
    "                f.write(f\"{read_thread}, {network_thread}, {write_thread}, {utility}, {self.read_throughput}, {self.sender_buffer_in_use}, {self.network_throughput}, {self.receiver_buffer_in_use}, {self.write_throughput}\\n\")\n",
    "\n",
    "        final_state = SimulatorState(self.sender_buffer_capacity-self.sender_buffer_in_use,\n",
    "                                     self.receiver_buffer_capacity-self.receiver_buffer_in_use,\n",
    "                                     self.read_throughput, self.write_throughput, self.network_throughput,\n",
    "                                     read_thread, write_thread, network_thread)\n",
    "\n",
    "        return utility, final_state"
   ],
   "outputs": [],
   "execution_count": 6
  },
  {
   "cell_type": "code",
   "metadata": {
    "id": "89M0daWr_gml",
    "ExecuteTime": {
     "end_time": "2024-12-05T02:24:03.773623Z",
     "start_time": "2024-12-05T02:24:03.767384Z"
    }
   },
   "source": [
    "class NetworkOptimizationEnv(gym.Env):\n",
    "    def __init__(self):\n",
    "        super(NetworkOptimizationEnv, self).__init__()\n",
    "        oneGB = 1024\n",
    "        self.simulator = NetworkSystemSimulator(sender_buffer_capacity=5*oneGB,\n",
    "                                                receiver_buffer_capacity=3*oneGB,\n",
    "                                                read_throughput_per_thread=100,\n",
    "                                                network_throughput_per_thread=75,\n",
    "                                                write_throughput_per_thread=35,\n",
    "                                                read_bandwidth=6*oneGB,\n",
    "                                                write_bandwidth=700,\n",
    "                                                network_bandwidth=1*oneGB)\n",
    "        self.thread_limits = [1, 100]  # Threads can be between 1 and 10\n",
    "\n",
    "        # Continuous action space: adjustments between -5.0 and +5.0\n",
    "        self.action_space = spaces.Box(low=np.array([-5.0, -5.0, -5.0]),\n",
    "                                       high=np.array([5.0, 5.0, 5.0]),\n",
    "                                       dtype=np.float32)\n",
    "\n",
    "        self.observation_space = spaces.Box(\n",
    "            low=np.array([0, 0, 0, 0, 0, self.thread_limits[0], self.thread_limits[0], self.thread_limits[0]]),\n",
    "            high=np.array([\n",
    "                self.simulator.sender_buffer_capacity,\n",
    "                self.simulator.receiver_buffer_capacity,\n",
    "                np.inf,  # Or maximum possible throughput values\n",
    "                np.inf,\n",
    "                np.inf,\n",
    "                self.thread_limits[1],\n",
    "                self.thread_limits[1],\n",
    "                self.thread_limits[1]\n",
    "            ]),\n",
    "            dtype=np.float32\n",
    "        )\n",
    "\n",
    "        self.state = SimulatorState(sender_buffer_remaining_capacity=5*oneGB,\n",
    "                                    receiver_buffer_remaining_capacity=3*oneGB,\n",
    "                                    read_thread=1,\n",
    "                                    network_thread=1,\n",
    "                                    write_thread=1)\n",
    "        self.max_steps = 100\n",
    "        self.current_step = 0\n",
    "\n",
    "        # For recording the trajectory\n",
    "        self.trajectory = []\n",
    "\n",
    "    def step(self, action):\n",
    "        adjustment = action\n",
    "\n",
    "        # Update the thread counts\n",
    "        new_thread_counts = [np.round(self.state.read_thread + adjustment[0]),\n",
    "                            np.round(self.state.network_thread + adjustment[1]),\n",
    "                            np.round(self.state.write_thread + adjustment[2])]\n",
    "\n",
    "        # Ensure the thread counts are within limits\n",
    "        new_thread_counts = np.clip(new_thread_counts, self.thread_limits[0], self.thread_limits[1]).astype(np.int32)\n",
    "\n",
    "        # Compute utility and update state\n",
    "        utility, self.state = self.simulator.get_utility_value(new_thread_counts)\n",
    "\n",
    "        # Penalize actions that hit thread limits\n",
    "        penalty = 0\n",
    "        if new_thread_counts[0] == self.thread_limits[0] or new_thread_counts[0] == self.thread_limits[1]:\n",
    "            penalty -= 100  # Adjust penalty value as needed\n",
    "        if new_thread_counts[1] == self.thread_limits[0] or new_thread_counts[1] == self.thread_limits[1]:\n",
    "            penalty -= 100\n",
    "        if new_thread_counts[2] == self.thread_limits[0] or new_thread_counts[2] == self.thread_limits[1]:\n",
    "            penalty -= 100\n",
    "\n",
    "        # Adjust reward\n",
    "        reward = utility + penalty\n",
    "\n",
    "        self.current_step += 1\n",
    "        done = self.current_step >= self.max_steps\n",
    "\n",
    "        # Record the state\n",
    "        self.trajectory.append(self.state.copy())\n",
    "\n",
    "        # Return state as NumPy array\n",
    "        return self.state.to_array(), reward, done, {}\n",
    "\n",
    "    def reset(self):\n",
    "        oneGB = 1024\n",
    "        self.state = SimulatorState(sender_buffer_remaining_capacity=5*oneGB,\n",
    "                                    receiver_buffer_remaining_capacity=3*oneGB,\n",
    "                                    read_thread=1,\n",
    "                                    network_thread=1,\n",
    "                                    write_thread=1)\n",
    "        self.current_step = 0\n",
    "        self.simulator.sender_buffer_in_use = 0\n",
    "        self.simulator.receiver_buffer_in_use = 0\n",
    "        self.trajectory = [self.state.copy()]\n",
    "\n",
    "        # Return initial state as NumPy array\n",
    "        return self.state.to_array()\n"
   ],
   "outputs": [],
   "execution_count": 7
  },
  {
   "cell_type": "code",
   "metadata": {
    "id": "R-EHAsIT_jz_",
    "ExecuteTime": {
     "end_time": "2024-12-05T02:24:03.821537Z",
     "start_time": "2024-12-05T02:24:03.818375Z"
    }
   },
   "source": [
    "class PolicyNetworkContinuous(nn.Module):\n",
    "    def __init__(self, state_dim, action_dim):\n",
    "        super(PolicyNetworkContinuous, self).__init__()\n",
    "        self.fc = nn.Sequential(\n",
    "            nn.Linear(state_dim, 128),\n",
    "            nn.Tanh(),\n",
    "            nn.Linear(128, 128),\n",
    "            nn.Tanh()\n",
    "        )\n",
    "        self.mean_layer = nn.Linear(128, action_dim)\n",
    "        self.log_std = nn.Parameter(torch.zeros(action_dim))  # Log standard deviation as a parameter\n",
    "        self.to(device)\n",
    "\n",
    "    def forward(self, state):\n",
    "        x = self.fc(state)\n",
    "        mean = self.mean_layer(x)\n",
    "        std = torch.exp(self.log_std)\n",
    "        return mean, std"
   ],
   "outputs": [],
   "execution_count": 8
  },
  {
   "cell_type": "code",
   "metadata": {
    "id": "sb26tz5y_kan",
    "ExecuteTime": {
     "end_time": "2024-12-05T02:24:03.868550Z",
     "start_time": "2024-12-05T02:24:03.865298Z"
    }
   },
   "source": [
    "class ValueNetwork(nn.Module):\n",
    "    def __init__(self, state_dim):\n",
    "        super(ValueNetwork, self).__init__()\n",
    "        self.fc = nn.Sequential(\n",
    "            nn.Linear(state_dim, 128),\n",
    "            nn.Tanh(),\n",
    "            nn.Linear(128, 128),\n",
    "            nn.Tanh(),\n",
    "            nn.Linear(128, 1)\n",
    "        )\n",
    "        self.to(device)\n",
    "\n",
    "    def forward(self, state):\n",
    "        value = self.fc(state)\n",
    "        return value"
   ],
   "outputs": [],
   "execution_count": 9
  },
  {
   "cell_type": "code",
   "metadata": {
    "id": "_tmOCssu_oig",
    "ExecuteTime": {
     "end_time": "2024-12-05T02:24:03.917822Z",
     "start_time": "2024-12-05T02:24:03.912622Z"
    }
   },
   "source": [
    "class PPOAgentContinuous:\n",
    "    def __init__(self, state_dim, action_dim, lr=1e-3, gamma=0.99, eps_clip=0.2):\n",
    "        self.policy = PolicyNetworkContinuous(state_dim, action_dim)\n",
    "        self.policy_old = PolicyNetworkContinuous(state_dim, action_dim)\n",
    "        self.policy_old.load_state_dict(self.policy.state_dict())\n",
    "        self.value_function = ValueNetwork(state_dim)\n",
    "        self.optimizer = optim.Adam([\n",
    "            {'params': self.policy.parameters(), 'lr': lr},\n",
    "            {'params': self.value_function.parameters(), 'lr': lr}\n",
    "        ])\n",
    "        self.gamma = gamma\n",
    "        self.eps_clip = eps_clip\n",
    "        self.MseLoss = nn.MSELoss()\n",
    "\n",
    "    def select_action(self, state):\n",
    "        state = torch.FloatTensor(state).to(device)\n",
    "        mean, std = self.policy_old(state)\n",
    "        dist = Normal(mean, std)\n",
    "        action = dist.sample()\n",
    "        action_logprob = dist.log_prob(action)\n",
    "        return action.detach().cpu().numpy(), action_logprob.detach().cpu().numpy()\n",
    "\n",
    "    def update(self, memory):\n",
    "        states = torch.stack(memory.states).to(device)\n",
    "        actions = torch.tensor(np.array(memory.actions), dtype=torch.float32).to(device)\n",
    "        rewards = torch.tensor(memory.rewards, dtype=torch.float32).to(device)\n",
    "        old_logprobs = torch.tensor(np.array(memory.logprobs), dtype=torch.float32).to(device)\n",
    "\n",
    "        # Compute discounted rewards\n",
    "        returns = []\n",
    "        discounted_reward = 0\n",
    "        for reward in reversed(rewards):\n",
    "            discounted_reward = reward + self.gamma * discounted_reward\n",
    "            returns.insert(0, discounted_reward)\n",
    "        returns = torch.tensor(returns, dtype=torch.float32).to(device)\n",
    "        returns = (returns - returns.mean()) / (returns.std() + 1e-5)\n",
    "\n",
    "        # Get new action probabilities\n",
    "        mean, std = self.policy(states)\n",
    "        dist = Normal(mean, std)\n",
    "        logprobs = dist.log_prob(actions)\n",
    "        entropy = dist.entropy()\n",
    "\n",
    "        logprobs = logprobs.sum(dim=1)\n",
    "        old_logprobs = old_logprobs.sum(dim=1)\n",
    "        entropy = entropy.sum(dim=1)\n",
    "\n",
    "        ratios = torch.exp(logprobs - old_logprobs)\n",
    "        state_values = self.value_function(states).squeeze()\n",
    "\n",
    "        # Compute advantage\n",
    "        advantages = returns - state_values.detach()\n",
    "\n",
    "        # Surrogate loss\n",
    "        surr1 = ratios * advantages\n",
    "        surr2 = torch.clamp(ratios, 1 - self.eps_clip, 1 + self.eps_clip) * advantages\n",
    "        loss = -torch.min(surr1, surr2) + 0.5 * self.MseLoss(state_values, returns) - 0.01 * entropy\n",
    "\n",
    "        # Update policy\n",
    "        self.optimizer.zero_grad()\n",
    "        loss.mean().backward()\n",
    "        self.optimizer.step()\n",
    "\n",
    "        self.policy_old.load_state_dict(self.policy.state_dict())"
   ],
   "outputs": [],
   "execution_count": 10
  },
  {
   "cell_type": "code",
   "metadata": {
    "id": "wgLMWmhz_ug-",
    "ExecuteTime": {
     "end_time": "2024-12-05T02:24:03.963834Z",
     "start_time": "2024-12-05T02:24:03.961423Z"
    }
   },
   "source": [
    "class Memory:\n",
    "    def __init__(self):\n",
    "        self.states = []\n",
    "        self.actions = []\n",
    "        self.logprobs = []\n",
    "        self.rewards = []\n",
    "\n",
    "    def clear(self):\n",
    "        del self.states[:]\n",
    "        del self.actions[:]\n",
    "        del self.logprobs[:]\n",
    "        del self.rewards[:]"
   ],
   "outputs": [],
   "execution_count": 11
  },
  {
   "cell_type": "code",
   "metadata": {
    "id": "uqew_AyJ_vIZ",
    "ExecuteTime": {
     "end_time": "2024-12-05T02:24:04.014736Z",
     "start_time": "2024-12-05T02:24:04.010606Z"
    }
   },
   "source": [
    "from tqdm import tqdm\n",
    "\n",
    "def train_ppo(env, agent, max_episodes=1000):\n",
    "    memory = Memory()\n",
    "    total_rewards = []\n",
    "    for episode in tqdm(range(1, max_episodes + 1), desc=\"Episodes\"):\n",
    "        state = env.reset()\n",
    "        episode_reward = 0\n",
    "        for t in range(env.max_steps):\n",
    "            action, action_logprob = agent.select_action(state)\n",
    "            next_state, reward, done, _ = env.step(action)\n",
    "\n",
    "            memory.states.append(torch.FloatTensor(state).to(device))\n",
    "            memory.actions.append(action)\n",
    "            memory.logprobs.append(action_logprob)\n",
    "            memory.rewards.append(reward)\n",
    "\n",
    "            state = next_state\n",
    "            episode_reward += reward\n",
    "            if done:\n",
    "                break\n",
    "\n",
    "        agent.update(memory)\n",
    "\n",
    "        # print(f\"Episode {episode}\\tLast State: {state}\\tReward: {reward}\")\n",
    "        with open('episode_rewards_128_GPU_modified_7.csv', 'a') as f:\n",
    "                f.write(f\"Episode {episode}, Last State: {np.round(state[-3:])}, Reward: {reward}\\n\")\n",
    "\n",
    "        memory.clear()\n",
    "        total_rewards.append(episode_reward)\n",
    "        if episode % 10 == 0:\n",
    "            avg_reward = np.mean(total_rewards[-10:])\n",
    "            print(f\"Episode {episode}\\tAverage Reward: {avg_reward:.2f}\")\n",
    "        if episode % 10 == 0:\n",
    "            save_model(agent, \"models/128_GPU_modified_7_policy_\"+ str(episode) +\".pth\", \"models/128_GPU_modified_7_value_\"+ str(episode) +\".pth\")\n",
    "            print(\"Model saved successfully.\")\n",
    "    return total_rewards\n"
   ],
   "outputs": [],
   "execution_count": 12
  },
  {
   "cell_type": "code",
   "metadata": {
    "id": "mcdLawi6_zfv",
    "ExecuteTime": {
     "end_time": "2024-12-05T02:24:04.062425Z",
     "start_time": "2024-12-05T02:24:04.059195Z"
    }
   },
   "source": [
    "def plot_trajectory(trajectory):\n",
    "    trajectory = np.array(trajectory)\n",
    "    plt.figure(figsize=(10, 6))\n",
    "    plt.plot(trajectory[:, 0], label='Read Thread')\n",
    "    plt.plot(trajectory[:, 1], label='Network Thread')\n",
    "    plt.plot(trajectory[:, 2], label='Write Thread')\n",
    "    plt.xlabel('Step')\n",
    "    plt.ylabel('Number of Threads')\n",
    "    plt.title('Trajectory of Thread Counts During Last Episode')\n",
    "    plt.legend()\n",
    "    plt.grid(True)\n",
    "    plt.show()\n",
    "\n",
    "def plot_rewards(rewards, title):\n",
    "    plt.figure(figsize=(10, 6))\n",
    "    plt.plot(rewards)\n",
    "    plt.xlabel('Episode')\n",
    "    plt.ylabel('Total Reward')\n",
    "    plt.title(title)\n",
    "    plt.grid(True)\n",
    "    plt.show()"
   ],
   "outputs": [],
   "execution_count": 13
  },
  {
   "cell_type": "code",
   "metadata": {
    "colab": {
     "base_uri": "https://localhost:8080/"
    },
    "id": "PVvHKgbU_20T",
    "outputId": "f38c9302-7f5e-4826-9b9b-6530b246ea35",
    "ExecuteTime": {
     "end_time": "2024-12-05T06:32:02.276247Z",
     "start_time": "2024-12-05T02:24:04.105865Z"
    }
   },
   "source": [
    "env = NetworkOptimizationEnv()\n",
    "agent = PPOAgentContinuous(state_dim=8, action_dim=3)\n",
    "print(\"Training PPO agent on Network System Simulator with continuous actions...\")\n",
    "rewards = train_ppo(env, agent, max_episodes=1000)"
   ],
   "outputs": [
    {
     "name": "stdout",
     "output_type": "stream",
     "text": [
      "Initial Sender Buffer: 25, Receiver Buffer: 40\n"
     ]
    },
    {
     "name": "stderr",
     "output_type": "stream",
     "text": [
      "/home/rs75c/Falcon-File-Transfer-Optimizer/venv/lib/python3.12/site-packages/gym/spaces/box.py:127: UserWarning: \u001B[33mWARN: Box bound precision lowered by casting to float32\u001B[0m\n",
      "  logger.warn(f\"Box bound precision lowered by casting to {self.dtype}\")\n"
     ]
    },
    {
     "name": "stdout",
     "output_type": "stream",
     "text": [
      "Training PPO agent on Network System Simulator with continuous actions...\n"
     ]
    },
    {
     "name": "stderr",
     "output_type": "stream",
     "text": [
      "Episodes:   1%|          | 10/1000 [00:11<26:33,  1.61s/it]"
     ]
    },
    {
     "name": "stdout",
     "output_type": "stream",
     "text": [
      "Episode 10\tAverage Reward: 66634.55\n",
      "Model saved successfully.\n",
      "Model saved successfully.\n"
     ]
    },
    {
     "name": "stderr",
     "output_type": "stream",
     "text": [
      "Episodes:   2%|▏         | 20/1000 [00:44<58:26,  3.58s/it]"
     ]
    },
    {
     "name": "stdout",
     "output_type": "stream",
     "text": [
      "Episode 20\tAverage Reward: 98400.58\n",
      "Model saved successfully.\n",
      "Model saved successfully.\n"
     ]
    },
    {
     "name": "stderr",
     "output_type": "stream",
     "text": [
      "Episodes:   3%|▎         | 30/1000 [01:38<1:38:41,  6.10s/it]"
     ]
    },
    {
     "name": "stdout",
     "output_type": "stream",
     "text": [
      "Episode 30\tAverage Reward: 109161.85\n",
      "Model saved successfully.\n",
      "Model saved successfully.\n"
     ]
    },
    {
     "name": "stderr",
     "output_type": "stream",
     "text": [
      "Episodes:   4%|▍         | 40/1000 [02:35<1:22:46,  5.17s/it]"
     ]
    },
    {
     "name": "stdout",
     "output_type": "stream",
     "text": [
      "Episode 40\tAverage Reward: 115858.97\n",
      "Model saved successfully.\n",
      "Model saved successfully.\n"
     ]
    },
    {
     "name": "stderr",
     "output_type": "stream",
     "text": [
      "Episodes:   5%|▌         | 50/1000 [04:04<2:41:21, 10.19s/it]"
     ]
    },
    {
     "name": "stdout",
     "output_type": "stream",
     "text": [
      "Episode 50\tAverage Reward: 80766.28\n",
      "Model saved successfully.\n",
      "Model saved successfully.\n"
     ]
    },
    {
     "name": "stderr",
     "output_type": "stream",
     "text": [
      "Episodes:   6%|▌         | 60/1000 [06:24<3:49:22, 14.64s/it]"
     ]
    },
    {
     "name": "stdout",
     "output_type": "stream",
     "text": [
      "Episode 60\tAverage Reward: 49500.88\n",
      "Model saved successfully.\n",
      "Model saved successfully.\n"
     ]
    },
    {
     "name": "stderr",
     "output_type": "stream",
     "text": [
      "Episodes:   7%|▋         | 70/1000 [08:53<3:57:03, 15.29s/it]"
     ]
    },
    {
     "name": "stdout",
     "output_type": "stream",
     "text": [
      "Episode 70\tAverage Reward: 74779.62\n",
      "Model saved successfully.\n",
      "Model saved successfully.\n"
     ]
    },
    {
     "name": "stderr",
     "output_type": "stream",
     "text": [
      "Episodes:   8%|▊         | 80/1000 [11:22<3:54:00, 15.26s/it]"
     ]
    },
    {
     "name": "stdout",
     "output_type": "stream",
     "text": [
      "Episode 80\tAverage Reward: 87360.12\n",
      "Model saved successfully.\n",
      "Model saved successfully.\n"
     ]
    },
    {
     "name": "stderr",
     "output_type": "stream",
     "text": [
      "Episodes:   9%|▉         | 90/1000 [13:45<3:36:17, 14.26s/it]"
     ]
    },
    {
     "name": "stdout",
     "output_type": "stream",
     "text": [
      "Episode 90\tAverage Reward: 95125.77\n",
      "Model saved successfully.\n",
      "Model saved successfully.\n"
     ]
    },
    {
     "name": "stderr",
     "output_type": "stream",
     "text": [
      "Episodes:  10%|█         | 100/1000 [16:05<3:37:09, 14.48s/it]"
     ]
    },
    {
     "name": "stdout",
     "output_type": "stream",
     "text": [
      "Episode 100\tAverage Reward: 93144.18\n",
      "Model saved successfully.\n",
      "Model saved successfully.\n"
     ]
    },
    {
     "name": "stderr",
     "output_type": "stream",
     "text": [
      "Episodes:  11%|█         | 110/1000 [19:27<5:24:45, 21.89s/it]"
     ]
    },
    {
     "name": "stdout",
     "output_type": "stream",
     "text": [
      "Episode 110\tAverage Reward: 66547.12\n",
      "Model saved successfully.\n",
      "Model saved successfully.\n"
     ]
    },
    {
     "name": "stderr",
     "output_type": "stream",
     "text": [
      "Episodes:  12%|█▏        | 120/1000 [23:12<5:29:55, 22.50s/it]"
     ]
    },
    {
     "name": "stdout",
     "output_type": "stream",
     "text": [
      "Episode 120\tAverage Reward: 58205.39\n",
      "Model saved successfully.\n",
      "Model saved successfully.\n"
     ]
    },
    {
     "name": "stderr",
     "output_type": "stream",
     "text": [
      "Episodes:  13%|█▎        | 130/1000 [26:46<5:01:57, 20.82s/it]"
     ]
    },
    {
     "name": "stdout",
     "output_type": "stream",
     "text": [
      "Episode 130\tAverage Reward: 56942.79\n",
      "Model saved successfully.\n",
      "Model saved successfully.\n"
     ]
    },
    {
     "name": "stderr",
     "output_type": "stream",
     "text": [
      "Episodes:  14%|█▍        | 140/1000 [30:09<4:49:19, 20.19s/it]"
     ]
    },
    {
     "name": "stdout",
     "output_type": "stream",
     "text": [
      "Episode 140\tAverage Reward: 54348.48\n",
      "Model saved successfully.\n",
      "Model saved successfully.\n"
     ]
    },
    {
     "name": "stderr",
     "output_type": "stream",
     "text": [
      "Episodes:  15%|█▌        | 150/1000 [33:48<5:23:28, 22.83s/it]"
     ]
    },
    {
     "name": "stdout",
     "output_type": "stream",
     "text": [
      "Episode 150\tAverage Reward: 59550.78\n",
      "Model saved successfully.\n",
      "Model saved successfully.\n"
     ]
    },
    {
     "name": "stderr",
     "output_type": "stream",
     "text": [
      "Episodes:  16%|█▌        | 160/1000 [37:47<5:29:33, 23.54s/it]"
     ]
    },
    {
     "name": "stdout",
     "output_type": "stream",
     "text": [
      "Episode 160\tAverage Reward: 56909.71\n",
      "Model saved successfully.\n",
      "Model saved successfully.\n"
     ]
    },
    {
     "name": "stderr",
     "output_type": "stream",
     "text": [
      "Episodes:  17%|█▋        | 170/1000 [41:45<5:28:08, 23.72s/it]"
     ]
    },
    {
     "name": "stdout",
     "output_type": "stream",
     "text": [
      "Episode 170\tAverage Reward: 57189.88\n",
      "Model saved successfully.\n",
      "Model saved successfully.\n"
     ]
    },
    {
     "name": "stderr",
     "output_type": "stream",
     "text": [
      "Episodes:  18%|█▊        | 180/1000 [45:27<4:58:50, 21.87s/it]"
     ]
    },
    {
     "name": "stdout",
     "output_type": "stream",
     "text": [
      "Episode 180\tAverage Reward: 60540.45\n",
      "Model saved successfully.\n",
      "Model saved successfully.\n"
     ]
    },
    {
     "name": "stderr",
     "output_type": "stream",
     "text": [
      "Episodes:  19%|█▉        | 190/1000 [48:58<4:45:59, 21.18s/it]"
     ]
    },
    {
     "name": "stdout",
     "output_type": "stream",
     "text": [
      "Episode 190\tAverage Reward: 57134.95\n",
      "Model saved successfully.\n",
      "Model saved successfully.\n"
     ]
    },
    {
     "name": "stderr",
     "output_type": "stream",
     "text": [
      "Episodes:  20%|██        | 200/1000 [52:34<4:49:04, 21.68s/it]"
     ]
    },
    {
     "name": "stdout",
     "output_type": "stream",
     "text": [
      "Episode 200\tAverage Reward: 66703.27\n",
      "Model saved successfully.\n",
      "Model saved successfully.\n"
     ]
    },
    {
     "name": "stderr",
     "output_type": "stream",
     "text": [
      "Episodes:  21%|██        | 210/1000 [56:15<4:43:19, 21.52s/it]"
     ]
    },
    {
     "name": "stdout",
     "output_type": "stream",
     "text": [
      "Episode 210\tAverage Reward: 65853.20\n",
      "Model saved successfully.\n",
      "Model saved successfully.\n"
     ]
    },
    {
     "name": "stderr",
     "output_type": "stream",
     "text": [
      "Episodes:  22%|██▏       | 220/1000 [59:17<3:48:31, 17.58s/it]"
     ]
    },
    {
     "name": "stdout",
     "output_type": "stream",
     "text": [
      "Episode 220\tAverage Reward: 78526.14\n",
      "Model saved successfully.\n",
      "Model saved successfully.\n"
     ]
    },
    {
     "name": "stderr",
     "output_type": "stream",
     "text": [
      "Episodes:  23%|██▎       | 230/1000 [1:02:08<3:35:05, 16.76s/it]"
     ]
    },
    {
     "name": "stdout",
     "output_type": "stream",
     "text": [
      "Episode 230\tAverage Reward: 81167.11\n",
      "Model saved successfully.\n",
      "Model saved successfully.\n"
     ]
    },
    {
     "name": "stderr",
     "output_type": "stream",
     "text": [
      "Episodes:  24%|██▍       | 240/1000 [1:04:48<3:11:39, 15.13s/it]"
     ]
    },
    {
     "name": "stdout",
     "output_type": "stream",
     "text": [
      "Episode 240\tAverage Reward: 81248.81\n",
      "Model saved successfully.\n",
      "Model saved successfully.\n"
     ]
    },
    {
     "name": "stderr",
     "output_type": "stream",
     "text": [
      "Episodes:  25%|██▌       | 250/1000 [1:06:56<2:29:34, 11.97s/it]"
     ]
    },
    {
     "name": "stdout",
     "output_type": "stream",
     "text": [
      "Episode 250\tAverage Reward: 90092.64\n",
      "Model saved successfully.\n",
      "Model saved successfully.\n"
     ]
    },
    {
     "name": "stderr",
     "output_type": "stream",
     "text": [
      "Episodes:  26%|██▌       | 260/1000 [1:09:28<3:22:58, 16.46s/it]"
     ]
    },
    {
     "name": "stdout",
     "output_type": "stream",
     "text": [
      "Episode 260\tAverage Reward: 90323.84\n",
      "Model saved successfully.\n",
      "Model saved successfully.\n"
     ]
    },
    {
     "name": "stderr",
     "output_type": "stream",
     "text": [
      "Episodes:  27%|██▋       | 270/1000 [1:12:37<3:57:01, 19.48s/it]"
     ]
    },
    {
     "name": "stdout",
     "output_type": "stream",
     "text": [
      "Episode 270\tAverage Reward: 79160.07\n",
      "Model saved successfully.\n",
      "Model saved successfully.\n"
     ]
    },
    {
     "name": "stderr",
     "output_type": "stream",
     "text": [
      "Episodes:  28%|██▊       | 280/1000 [1:16:00<4:03:21, 20.28s/it]"
     ]
    },
    {
     "name": "stdout",
     "output_type": "stream",
     "text": [
      "Episode 280\tAverage Reward: 76144.09\n",
      "Model saved successfully.\n",
      "Model saved successfully.\n"
     ]
    },
    {
     "name": "stderr",
     "output_type": "stream",
     "text": [
      "Episodes:  29%|██▉       | 290/1000 [1:18:29<2:25:51, 12.33s/it]"
     ]
    },
    {
     "name": "stdout",
     "output_type": "stream",
     "text": [
      "Episode 290\tAverage Reward: 93567.00\n",
      "Model saved successfully.\n",
      "Model saved successfully.\n"
     ]
    },
    {
     "name": "stderr",
     "output_type": "stream",
     "text": [
      "Episodes:  30%|███       | 300/1000 [1:20:12<2:02:08, 10.47s/it]"
     ]
    },
    {
     "name": "stdout",
     "output_type": "stream",
     "text": [
      "Episode 300\tAverage Reward: 103800.96\n",
      "Model saved successfully.\n",
      "Model saved successfully.\n"
     ]
    },
    {
     "name": "stderr",
     "output_type": "stream",
     "text": [
      "Episodes:  31%|███       | 310/1000 [1:22:01<2:03:47, 10.76s/it]"
     ]
    },
    {
     "name": "stdout",
     "output_type": "stream",
     "text": [
      "Episode 310\tAverage Reward: 98973.76\n",
      "Model saved successfully.\n",
      "Model saved successfully.\n"
     ]
    },
    {
     "name": "stderr",
     "output_type": "stream",
     "text": [
      "Episodes:  32%|███▏      | 320/1000 [1:24:06<2:29:04, 13.15s/it]"
     ]
    },
    {
     "name": "stdout",
     "output_type": "stream",
     "text": [
      "Episode 320\tAverage Reward: 108636.17\n",
      "Model saved successfully.\n",
      "Model saved successfully.\n"
     ]
    },
    {
     "name": "stderr",
     "output_type": "stream",
     "text": [
      "Episodes:  33%|███▎      | 330/1000 [1:26:35<2:56:42, 15.82s/it]"
     ]
    },
    {
     "name": "stdout",
     "output_type": "stream",
     "text": [
      "Episode 330\tAverage Reward: 98623.50\n",
      "Model saved successfully.\n",
      "Model saved successfully.\n"
     ]
    },
    {
     "name": "stderr",
     "output_type": "stream",
     "text": [
      "Episodes:  34%|███▍      | 340/1000 [1:29:22<3:05:58, 16.91s/it]"
     ]
    },
    {
     "name": "stdout",
     "output_type": "stream",
     "text": [
      "Episode 340\tAverage Reward: 91780.27\n",
      "Model saved successfully.\n",
      "Model saved successfully.\n"
     ]
    },
    {
     "name": "stderr",
     "output_type": "stream",
     "text": [
      "Episodes:  35%|███▌      | 350/1000 [1:32:20<3:11:20, 17.66s/it]"
     ]
    },
    {
     "name": "stdout",
     "output_type": "stream",
     "text": [
      "Episode 350\tAverage Reward: 86353.41\n",
      "Model saved successfully.\n",
      "Model saved successfully.\n"
     ]
    },
    {
     "name": "stderr",
     "output_type": "stream",
     "text": [
      "Episodes:  36%|███▌      | 360/1000 [1:35:24<3:17:45, 18.54s/it]"
     ]
    },
    {
     "name": "stdout",
     "output_type": "stream",
     "text": [
      "Episode 360\tAverage Reward: 83492.39\n",
      "Model saved successfully.\n",
      "Model saved successfully.\n"
     ]
    },
    {
     "name": "stderr",
     "output_type": "stream",
     "text": [
      "Episodes:  37%|███▋      | 370/1000 [1:38:21<3:05:46, 17.69s/it]"
     ]
    },
    {
     "name": "stdout",
     "output_type": "stream",
     "text": [
      "Episode 370\tAverage Reward: 85043.55\n",
      "Model saved successfully.\n",
      "Model saved successfully.\n"
     ]
    },
    {
     "name": "stderr",
     "output_type": "stream",
     "text": [
      "Episodes:  38%|███▊      | 380/1000 [1:41:08<2:53:53, 16.83s/it]"
     ]
    },
    {
     "name": "stdout",
     "output_type": "stream",
     "text": [
      "Episode 380\tAverage Reward: 89115.64\n",
      "Model saved successfully.\n",
      "Model saved successfully.\n"
     ]
    },
    {
     "name": "stderr",
     "output_type": "stream",
     "text": [
      "Episodes:  39%|███▉      | 390/1000 [1:43:36<2:24:41, 14.23s/it]"
     ]
    },
    {
     "name": "stdout",
     "output_type": "stream",
     "text": [
      "Episode 390\tAverage Reward: 97272.40\n",
      "Model saved successfully.\n",
      "Model saved successfully.\n"
     ]
    },
    {
     "name": "stderr",
     "output_type": "stream",
     "text": [
      "Episodes:  40%|████      | 400/1000 [1:45:56<2:15:10, 13.52s/it]"
     ]
    },
    {
     "name": "stdout",
     "output_type": "stream",
     "text": [
      "Episode 400\tAverage Reward: 102927.06\n",
      "Model saved successfully.\n",
      "Model saved successfully.\n"
     ]
    },
    {
     "name": "stderr",
     "output_type": "stream",
     "text": [
      "Episodes:  41%|████      | 410/1000 [1:48:01<2:11:44, 13.40s/it]"
     ]
    },
    {
     "name": "stdout",
     "output_type": "stream",
     "text": [
      "Episode 410\tAverage Reward: 110633.01\n",
      "Model saved successfully.\n",
      "Model saved successfully.\n"
     ]
    },
    {
     "name": "stderr",
     "output_type": "stream",
     "text": [
      "Episodes:  42%|████▏     | 420/1000 [1:50:47<2:44:34, 17.03s/it]"
     ]
    },
    {
     "name": "stdout",
     "output_type": "stream",
     "text": [
      "Episode 420\tAverage Reward: 94597.93\n",
      "Model saved successfully.\n",
      "Model saved successfully.\n"
     ]
    },
    {
     "name": "stderr",
     "output_type": "stream",
     "text": [
      "Episodes:  43%|████▎     | 430/1000 [1:53:49<2:57:01, 18.63s/it]"
     ]
    },
    {
     "name": "stdout",
     "output_type": "stream",
     "text": [
      "Episode 430\tAverage Reward: 88507.57\n",
      "Model saved successfully.\n",
      "Model saved successfully.\n"
     ]
    },
    {
     "name": "stderr",
     "output_type": "stream",
     "text": [
      "Episodes:  44%|████▍     | 440/1000 [1:57:02<3:02:01, 19.50s/it]"
     ]
    },
    {
     "name": "stdout",
     "output_type": "stream",
     "text": [
      "Episode 440\tAverage Reward: 82887.90\n",
      "Model saved successfully.\n",
      "Model saved successfully.\n"
     ]
    },
    {
     "name": "stderr",
     "output_type": "stream",
     "text": [
      "Episodes:  45%|████▌     | 450/1000 [2:00:16<2:58:10, 19.44s/it]"
     ]
    },
    {
     "name": "stdout",
     "output_type": "stream",
     "text": [
      "Episode 450\tAverage Reward: 81197.40\n",
      "Model saved successfully.\n",
      "Model saved successfully.\n"
     ]
    },
    {
     "name": "stderr",
     "output_type": "stream",
     "text": [
      "Episodes:  46%|████▌     | 460/1000 [2:03:27<2:49:21, 18.82s/it]"
     ]
    },
    {
     "name": "stdout",
     "output_type": "stream",
     "text": [
      "Episode 460\tAverage Reward: 80153.97\n",
      "Model saved successfully.\n",
      "Model saved successfully.\n"
     ]
    },
    {
     "name": "stderr",
     "output_type": "stream",
     "text": [
      "Episodes:  47%|████▋     | 470/1000 [2:06:32<2:42:21, 18.38s/it]"
     ]
    },
    {
     "name": "stdout",
     "output_type": "stream",
     "text": [
      "Episode 470\tAverage Reward: 83449.67\n",
      "Model saved successfully.\n",
      "Model saved successfully.\n"
     ]
    },
    {
     "name": "stderr",
     "output_type": "stream",
     "text": [
      "Episodes:  48%|████▊     | 480/1000 [2:09:31<2:32:10, 17.56s/it]"
     ]
    },
    {
     "name": "stdout",
     "output_type": "stream",
     "text": [
      "Episode 480\tAverage Reward: 87105.11\n",
      "Model saved successfully.\n",
      "Model saved successfully.\n"
     ]
    },
    {
     "name": "stderr",
     "output_type": "stream",
     "text": [
      "Episodes:  49%|████▉     | 490/1000 [2:12:16<2:16:55, 16.11s/it]"
     ]
    },
    {
     "name": "stdout",
     "output_type": "stream",
     "text": [
      "Episode 490\tAverage Reward: 92590.61\n",
      "Model saved successfully.\n",
      "Model saved successfully.\n"
     ]
    },
    {
     "name": "stderr",
     "output_type": "stream",
     "text": [
      "Episodes:  50%|█████     | 500/1000 [2:14:47<2:07:42, 15.33s/it]"
     ]
    },
    {
     "name": "stdout",
     "output_type": "stream",
     "text": [
      "Episode 500\tAverage Reward: 96160.82\n",
      "Model saved successfully.\n",
      "Model saved successfully.\n"
     ]
    },
    {
     "name": "stderr",
     "output_type": "stream",
     "text": [
      "Episodes:  51%|█████     | 510/1000 [2:17:29<2:10:50, 16.02s/it]"
     ]
    },
    {
     "name": "stdout",
     "output_type": "stream",
     "text": [
      "Episode 510\tAverage Reward: 92701.79\n",
      "Model saved successfully.\n",
      "Model saved successfully.\n"
     ]
    },
    {
     "name": "stderr",
     "output_type": "stream",
     "text": [
      "Episodes:  52%|█████▏    | 520/1000 [2:20:04<2:02:07, 15.27s/it]"
     ]
    },
    {
     "name": "stdout",
     "output_type": "stream",
     "text": [
      "Episode 520\tAverage Reward: 96927.82\n",
      "Model saved successfully.\n",
      "Model saved successfully.\n"
     ]
    },
    {
     "name": "stderr",
     "output_type": "stream",
     "text": [
      "Episodes:  53%|█████▎    | 530/1000 [2:21:57<1:23:46, 10.69s/it]"
     ]
    },
    {
     "name": "stdout",
     "output_type": "stream",
     "text": [
      "Episode 530\tAverage Reward: 112526.76\n",
      "Model saved successfully.\n",
      "Model saved successfully.\n"
     ]
    },
    {
     "name": "stderr",
     "output_type": "stream",
     "text": [
      "Episodes:  54%|█████▍    | 540/1000 [2:22:39<24:23,  3.18s/it]  "
     ]
    },
    {
     "name": "stdout",
     "output_type": "stream",
     "text": [
      "Episode 540\tAverage Reward: 132502.54\n",
      "Model saved successfully.\n",
      "Model saved successfully.\n"
     ]
    },
    {
     "name": "stderr",
     "output_type": "stream",
     "text": [
      "Episodes:  55%|█████▌    | 550/1000 [2:23:18<34:51,  4.65s/it]"
     ]
    },
    {
     "name": "stdout",
     "output_type": "stream",
     "text": [
      "Episode 550\tAverage Reward: 143932.44\n",
      "Model saved successfully.\n",
      "Model saved successfully.\n"
     ]
    },
    {
     "name": "stderr",
     "output_type": "stream",
     "text": [
      "Episodes:  56%|█████▌    | 560/1000 [2:24:23<50:42,  6.92s/it]"
     ]
    },
    {
     "name": "stdout",
     "output_type": "stream",
     "text": [
      "Episode 560\tAverage Reward: 135911.32\n",
      "Model saved successfully.\n",
      "Model saved successfully.\n"
     ]
    },
    {
     "name": "stderr",
     "output_type": "stream",
     "text": [
      "Episodes:  57%|█████▋    | 570/1000 [2:25:39<54:49,  7.65s/it]"
     ]
    },
    {
     "name": "stdout",
     "output_type": "stream",
     "text": [
      "Episode 570\tAverage Reward: 130748.08\n",
      "Model saved successfully.\n",
      "Model saved successfully.\n"
     ]
    },
    {
     "name": "stderr",
     "output_type": "stream",
     "text": [
      "Episodes:  58%|█████▊    | 580/1000 [2:26:56<53:40,  7.67s/it]"
     ]
    },
    {
     "name": "stdout",
     "output_type": "stream",
     "text": [
      "Episode 580\tAverage Reward: 129882.27\n",
      "Model saved successfully.\n",
      "Model saved successfully.\n"
     ]
    },
    {
     "name": "stderr",
     "output_type": "stream",
     "text": [
      "Episodes:  59%|█████▉    | 590/1000 [2:28:01<43:29,  6.36s/it]"
     ]
    },
    {
     "name": "stdout",
     "output_type": "stream",
     "text": [
      "Episode 590\tAverage Reward: 133017.71\n",
      "Model saved successfully.\n",
      "Model saved successfully.\n"
     ]
    },
    {
     "name": "stderr",
     "output_type": "stream",
     "text": [
      "Episodes:  60%|██████    | 600/1000 [2:29:04<49:20,  7.40s/it]"
     ]
    },
    {
     "name": "stdout",
     "output_type": "stream",
     "text": [
      "Episode 600\tAverage Reward: 128294.05\n",
      "Model saved successfully.\n",
      "Model saved successfully.\n"
     ]
    },
    {
     "name": "stderr",
     "output_type": "stream",
     "text": [
      "Episodes:  61%|██████    | 610/1000 [2:31:16<1:33:15, 14.35s/it]"
     ]
    },
    {
     "name": "stdout",
     "output_type": "stream",
     "text": [
      "Episode 610\tAverage Reward: 98470.32\n",
      "Model saved successfully.\n",
      "Model saved successfully.\n"
     ]
    },
    {
     "name": "stderr",
     "output_type": "stream",
     "text": [
      "Episodes:  62%|██████▏   | 620/1000 [2:34:12<1:54:56, 18.15s/it]"
     ]
    },
    {
     "name": "stdout",
     "output_type": "stream",
     "text": [
      "Episode 620\tAverage Reward: 84599.41\n",
      "Model saved successfully.\n",
      "Model saved successfully.\n"
     ]
    },
    {
     "name": "stderr",
     "output_type": "stream",
     "text": [
      "Episodes:  63%|██████▎   | 630/1000 [2:37:17<1:51:51, 18.14s/it]"
     ]
    },
    {
     "name": "stdout",
     "output_type": "stream",
     "text": [
      "Episode 630\tAverage Reward: 80615.22\n",
      "Model saved successfully.\n",
      "Model saved successfully.\n"
     ]
    },
    {
     "name": "stderr",
     "output_type": "stream",
     "text": [
      "Episodes:  64%|██████▍   | 640/1000 [2:40:09<1:42:11, 17.03s/it]"
     ]
    },
    {
     "name": "stdout",
     "output_type": "stream",
     "text": [
      "Episode 640\tAverage Reward: 86657.99\n",
      "Model saved successfully.\n",
      "Model saved successfully.\n"
     ]
    },
    {
     "name": "stderr",
     "output_type": "stream",
     "text": [
      "Episodes:  65%|██████▌   | 650/1000 [2:42:32<1:19:59, 13.71s/it]"
     ]
    },
    {
     "name": "stdout",
     "output_type": "stream",
     "text": [
      "Episode 650\tAverage Reward: 94509.84\n",
      "Model saved successfully.\n",
      "Model saved successfully.\n"
     ]
    },
    {
     "name": "stderr",
     "output_type": "stream",
     "text": [
      "Episodes:  66%|██████▌   | 660/1000 [2:44:35<1:08:56, 12.17s/it]"
     ]
    },
    {
     "name": "stdout",
     "output_type": "stream",
     "text": [
      "Episode 660\tAverage Reward: 101822.30\n",
      "Model saved successfully.\n",
      "Model saved successfully.\n"
     ]
    },
    {
     "name": "stderr",
     "output_type": "stream",
     "text": [
      "Episodes:  67%|██████▋   | 670/1000 [2:46:22<1:01:03, 11.10s/it]"
     ]
    },
    {
     "name": "stdout",
     "output_type": "stream",
     "text": [
      "Episode 670\tAverage Reward: 110883.25\n",
      "Model saved successfully.\n",
      "Model saved successfully.\n"
     ]
    },
    {
     "name": "stderr",
     "output_type": "stream",
     "text": [
      "Episodes:  68%|██████▊   | 680/1000 [2:48:02<51:34,  9.67s/it]  "
     ]
    },
    {
     "name": "stdout",
     "output_type": "stream",
     "text": [
      "Episode 680\tAverage Reward: 115763.21\n",
      "Model saved successfully.\n",
      "Model saved successfully.\n"
     ]
    },
    {
     "name": "stderr",
     "output_type": "stream",
     "text": [
      "Episodes:  69%|██████▉   | 690/1000 [2:49:48<54:12, 10.49s/it]"
     ]
    },
    {
     "name": "stdout",
     "output_type": "stream",
     "text": [
      "Episode 690\tAverage Reward: 112849.25\n",
      "Model saved successfully.\n",
      "Model saved successfully.\n"
     ]
    },
    {
     "name": "stderr",
     "output_type": "stream",
     "text": [
      "Episodes:  70%|███████   | 700/1000 [2:51:34<53:49, 10.76s/it]"
     ]
    },
    {
     "name": "stdout",
     "output_type": "stream",
     "text": [
      "Episode 700\tAverage Reward: 113368.50\n",
      "Model saved successfully.\n",
      "Model saved successfully.\n"
     ]
    },
    {
     "name": "stderr",
     "output_type": "stream",
     "text": [
      "Episodes:  71%|███████   | 710/1000 [2:53:32<58:11, 12.04s/it]"
     ]
    },
    {
     "name": "stdout",
     "output_type": "stream",
     "text": [
      "Episode 710\tAverage Reward: 106354.65\n",
      "Model saved successfully.\n",
      "Model saved successfully.\n"
     ]
    },
    {
     "name": "stderr",
     "output_type": "stream",
     "text": [
      "Episodes:  72%|███████▏  | 720/1000 [2:55:39<56:49, 12.18s/it]  "
     ]
    },
    {
     "name": "stdout",
     "output_type": "stream",
     "text": [
      "Episode 720\tAverage Reward: 102065.66\n",
      "Model saved successfully.\n",
      "Model saved successfully.\n"
     ]
    },
    {
     "name": "stderr",
     "output_type": "stream",
     "text": [
      "Episodes:  73%|███████▎  | 730/1000 [2:57:42<53:59, 12.00s/it]"
     ]
    },
    {
     "name": "stdout",
     "output_type": "stream",
     "text": [
      "Episode 730\tAverage Reward: 104942.72\n",
      "Model saved successfully.\n",
      "Model saved successfully.\n"
     ]
    },
    {
     "name": "stderr",
     "output_type": "stream",
     "text": [
      "Episodes:  74%|███████▍  | 740/1000 [2:59:25<42:02,  9.70s/it]"
     ]
    },
    {
     "name": "stdout",
     "output_type": "stream",
     "text": [
      "Episode 740\tAverage Reward: 115252.69\n",
      "Model saved successfully.\n",
      "Model saved successfully.\n"
     ]
    },
    {
     "name": "stderr",
     "output_type": "stream",
     "text": [
      "Episodes:  75%|███████▌  | 750/1000 [3:00:59<39:52,  9.57s/it]"
     ]
    },
    {
     "name": "stdout",
     "output_type": "stream",
     "text": [
      "Episode 750\tAverage Reward: 122770.47\n",
      "Model saved successfully.\n",
      "Model saved successfully.\n"
     ]
    },
    {
     "name": "stderr",
     "output_type": "stream",
     "text": [
      "Episodes:  76%|███████▌  | 760/1000 [3:02:54<48:07, 12.03s/it]"
     ]
    },
    {
     "name": "stdout",
     "output_type": "stream",
     "text": [
      "Episode 760\tAverage Reward: 111279.50\n",
      "Model saved successfully.\n",
      "Model saved successfully.\n"
     ]
    },
    {
     "name": "stderr",
     "output_type": "stream",
     "text": [
      "Episodes:  77%|███████▋  | 770/1000 [3:05:00<48:49, 12.74s/it]"
     ]
    },
    {
     "name": "stdout",
     "output_type": "stream",
     "text": [
      "Episode 770\tAverage Reward: 105029.31\n",
      "Model saved successfully.\n",
      "Model saved successfully.\n"
     ]
    },
    {
     "name": "stderr",
     "output_type": "stream",
     "text": [
      "Episodes:  78%|███████▊  | 780/1000 [3:07:12<45:58, 12.54s/it]"
     ]
    },
    {
     "name": "stdout",
     "output_type": "stream",
     "text": [
      "Episode 780\tAverage Reward: 102027.33\n",
      "Model saved successfully.\n",
      "Model saved successfully.\n"
     ]
    },
    {
     "name": "stderr",
     "output_type": "stream",
     "text": [
      "Episodes:  79%|███████▉  | 790/1000 [3:08:58<36:54, 10.54s/it]"
     ]
    },
    {
     "name": "stdout",
     "output_type": "stream",
     "text": [
      "Episode 790\tAverage Reward: 115268.15\n",
      "Model saved successfully.\n",
      "Model saved successfully.\n"
     ]
    },
    {
     "name": "stderr",
     "output_type": "stream",
     "text": [
      "Episodes:  80%|████████  | 800/1000 [3:10:33<31:50,  9.55s/it]"
     ]
    },
    {
     "name": "stdout",
     "output_type": "stream",
     "text": [
      "Episode 800\tAverage Reward: 121718.14\n",
      "Model saved successfully.\n",
      "Model saved successfully.\n"
     ]
    },
    {
     "name": "stderr",
     "output_type": "stream",
     "text": [
      "Episodes:  81%|████████  | 810/1000 [3:12:11<30:50,  9.74s/it]"
     ]
    },
    {
     "name": "stdout",
     "output_type": "stream",
     "text": [
      "Episode 810\tAverage Reward: 117330.24\n",
      "Model saved successfully.\n",
      "Model saved successfully.\n"
     ]
    },
    {
     "name": "stderr",
     "output_type": "stream",
     "text": [
      "Episodes:  82%|████████▏ | 820/1000 [3:13:48<30:42, 10.24s/it]"
     ]
    },
    {
     "name": "stdout",
     "output_type": "stream",
     "text": [
      "Episode 820\tAverage Reward: 113883.04\n",
      "Model saved successfully.\n",
      "Model saved successfully.\n"
     ]
    },
    {
     "name": "stderr",
     "output_type": "stream",
     "text": [
      "Episodes:  83%|████████▎ | 830/1000 [3:15:45<34:03, 12.02s/it]"
     ]
    },
    {
     "name": "stdout",
     "output_type": "stream",
     "text": [
      "Episode 830\tAverage Reward: 105392.08\n",
      "Model saved successfully.\n",
      "Model saved successfully.\n"
     ]
    },
    {
     "name": "stderr",
     "output_type": "stream",
     "text": [
      "Episodes:  84%|████████▍ | 840/1000 [3:18:06<38:24, 14.40s/it]"
     ]
    },
    {
     "name": "stdout",
     "output_type": "stream",
     "text": [
      "Episode 840\tAverage Reward: 94389.70\n",
      "Model saved successfully.\n",
      "Model saved successfully.\n"
     ]
    },
    {
     "name": "stderr",
     "output_type": "stream",
     "text": [
      "Episodes:  85%|████████▌ | 850/1000 [3:20:22<31:47, 12.71s/it]"
     ]
    },
    {
     "name": "stdout",
     "output_type": "stream",
     "text": [
      "Episode 850\tAverage Reward: 98513.17\n",
      "Model saved successfully.\n",
      "Model saved successfully.\n"
     ]
    },
    {
     "name": "stderr",
     "output_type": "stream",
     "text": [
      "Episodes:  86%|████████▌ | 860/1000 [3:22:18<24:46, 10.62s/it]"
     ]
    },
    {
     "name": "stdout",
     "output_type": "stream",
     "text": [
      "Episode 860\tAverage Reward: 106570.66\n",
      "Model saved successfully.\n",
      "Model saved successfully.\n"
     ]
    },
    {
     "name": "stderr",
     "output_type": "stream",
     "text": [
      "Episodes:  87%|████████▋ | 870/1000 [3:23:55<21:49, 10.08s/it]"
     ]
    },
    {
     "name": "stdout",
     "output_type": "stream",
     "text": [
      "Episode 870\tAverage Reward: 112908.69\n",
      "Model saved successfully.\n",
      "Model saved successfully.\n"
     ]
    },
    {
     "name": "stderr",
     "output_type": "stream",
     "text": [
      "Episodes:  88%|████████▊ | 880/1000 [3:25:45<23:10, 11.59s/it]"
     ]
    },
    {
     "name": "stdout",
     "output_type": "stream",
     "text": [
      "Episode 880\tAverage Reward: 105261.48\n",
      "Model saved successfully.\n",
      "Model saved successfully.\n"
     ]
    },
    {
     "name": "stderr",
     "output_type": "stream",
     "text": [
      "Episodes:  89%|████████▉ | 890/1000 [3:27:59<25:40, 14.00s/it]"
     ]
    },
    {
     "name": "stdout",
     "output_type": "stream",
     "text": [
      "Episode 890\tAverage Reward: 93886.70\n",
      "Model saved successfully.\n",
      "Model saved successfully.\n"
     ]
    },
    {
     "name": "stderr",
     "output_type": "stream",
     "text": [
      "Episodes:  90%|█████████ | 900/1000 [3:30:37<26:18, 15.78s/it]"
     ]
    },
    {
     "name": "stdout",
     "output_type": "stream",
     "text": [
      "Episode 900\tAverage Reward: 87879.80\n",
      "Model saved successfully.\n",
      "Model saved successfully.\n"
     ]
    },
    {
     "name": "stderr",
     "output_type": "stream",
     "text": [
      "Episodes:  91%|█████████ | 910/1000 [3:33:20<24:48, 16.54s/it]"
     ]
    },
    {
     "name": "stdout",
     "output_type": "stream",
     "text": [
      "Episode 910\tAverage Reward: 88483.11\n",
      "Model saved successfully.\n",
      "Model saved successfully.\n"
     ]
    },
    {
     "name": "stderr",
     "output_type": "stream",
     "text": [
      "Episodes:  92%|█████████▏| 920/1000 [3:36:30<28:03, 21.04s/it]"
     ]
    },
    {
     "name": "stdout",
     "output_type": "stream",
     "text": [
      "Episode 920\tAverage Reward: 79745.84\n",
      "Model saved successfully.\n",
      "Model saved successfully.\n"
     ]
    },
    {
     "name": "stderr",
     "output_type": "stream",
     "text": [
      "Episodes:  93%|█████████▎| 930/1000 [3:40:18<27:59, 23.99s/it]"
     ]
    },
    {
     "name": "stdout",
     "output_type": "stream",
     "text": [
      "Episode 930\tAverage Reward: 63044.02\n",
      "Model saved successfully.\n",
      "Model saved successfully.\n"
     ]
    },
    {
     "name": "stderr",
     "output_type": "stream",
     "text": [
      "Episodes:  94%|█████████▍| 940/1000 [3:44:08<22:38, 22.64s/it]"
     ]
    },
    {
     "name": "stdout",
     "output_type": "stream",
     "text": [
      "Episode 940\tAverage Reward: 61097.25\n",
      "Model saved successfully.\n",
      "Model saved successfully.\n"
     ]
    },
    {
     "name": "stderr",
     "output_type": "stream",
     "text": [
      "Episodes:  95%|█████████▌| 950/1000 [3:47:55<19:35, 23.52s/it]"
     ]
    },
    {
     "name": "stdout",
     "output_type": "stream",
     "text": [
      "Episode 950\tAverage Reward: 63847.75\n",
      "Model saved successfully.\n",
      "Model saved successfully.\n"
     ]
    },
    {
     "name": "stderr",
     "output_type": "stream",
     "text": [
      "Episodes:  96%|█████████▌| 960/1000 [3:52:11<17:19, 25.99s/it]"
     ]
    },
    {
     "name": "stdout",
     "output_type": "stream",
     "text": [
      "Episode 960\tAverage Reward: 50205.65\n",
      "Model saved successfully.\n",
      "Model saved successfully.\n"
     ]
    },
    {
     "name": "stderr",
     "output_type": "stream",
     "text": [
      "Episodes:  97%|█████████▋| 970/1000 [3:56:17<12:05, 24.19s/it]"
     ]
    },
    {
     "name": "stdout",
     "output_type": "stream",
     "text": [
      "Episode 970\tAverage Reward: 53192.62\n",
      "Model saved successfully.\n",
      "Model saved successfully.\n"
     ]
    },
    {
     "name": "stderr",
     "output_type": "stream",
     "text": [
      "Episodes:  98%|█████████▊| 980/1000 [4:00:09<07:51, 23.59s/it]"
     ]
    },
    {
     "name": "stdout",
     "output_type": "stream",
     "text": [
      "Episode 980\tAverage Reward: 59439.42\n",
      "Model saved successfully.\n",
      "Model saved successfully.\n"
     ]
    },
    {
     "name": "stderr",
     "output_type": "stream",
     "text": [
      "Episodes:  99%|█████████▉| 990/1000 [4:04:01<03:55, 23.51s/it]"
     ]
    },
    {
     "name": "stdout",
     "output_type": "stream",
     "text": [
      "Episode 990\tAverage Reward: 59139.09\n",
      "Model saved successfully.\n",
      "Model saved successfully.\n"
     ]
    },
    {
     "name": "stderr",
     "output_type": "stream",
     "text": [
      "Episodes: 100%|██████████| 1000/1000 [4:07:57<00:00, 14.88s/it]"
     ]
    },
    {
     "name": "stdout",
     "output_type": "stream",
     "text": [
      "Episode 1000\tAverage Reward: 56082.25\n",
      "Model saved successfully.\n",
      "Model saved successfully.\n"
     ]
    },
    {
     "name": "stderr",
     "output_type": "stream",
     "text": [
      "\n"
     ]
    }
   ],
   "execution_count": 14
  },
  {
   "cell_type": "code",
   "metadata": {
    "id": "zn4v7UGp453F",
    "outputId": "43061001-ccde-4d1b-ad66-779619aab2aa",
    "ExecuteTime": {
     "end_time": "2024-12-05T06:32:02.378221Z",
     "start_time": "2024-12-05T06:32:02.294458Z"
    }
   },
   "source": [
    "plot_trajectory(env.trajectory)"
   ],
   "outputs": [
    {
     "ename": "IndexError",
     "evalue": "too many indices for array: array is 1-dimensional, but 2 were indexed",
     "output_type": "error",
     "traceback": [
      "\u001B[0;31m---------------------------------------------------------------------------\u001B[0m",
      "\u001B[0;31mIndexError\u001B[0m                                Traceback (most recent call last)",
      "Cell \u001B[0;32mIn[15], line 1\u001B[0m\n\u001B[0;32m----> 1\u001B[0m \u001B[43mplot_trajectory\u001B[49m\u001B[43m(\u001B[49m\u001B[43menv\u001B[49m\u001B[38;5;241;43m.\u001B[39;49m\u001B[43mtrajectory\u001B[49m\u001B[43m)\u001B[49m\n",
      "Cell \u001B[0;32mIn[13], line 4\u001B[0m, in \u001B[0;36mplot_trajectory\u001B[0;34m(trajectory)\u001B[0m\n\u001B[1;32m      2\u001B[0m trajectory \u001B[38;5;241m=\u001B[39m np\u001B[38;5;241m.\u001B[39marray(trajectory)\n\u001B[1;32m      3\u001B[0m plt\u001B[38;5;241m.\u001B[39mfigure(figsize\u001B[38;5;241m=\u001B[39m(\u001B[38;5;241m10\u001B[39m, \u001B[38;5;241m6\u001B[39m))\n\u001B[0;32m----> 4\u001B[0m plt\u001B[38;5;241m.\u001B[39mplot(\u001B[43mtrajectory\u001B[49m\u001B[43m[\u001B[49m\u001B[43m:\u001B[49m\u001B[43m,\u001B[49m\u001B[43m \u001B[49m\u001B[38;5;241;43m0\u001B[39;49m\u001B[43m]\u001B[49m, label\u001B[38;5;241m=\u001B[39m\u001B[38;5;124m'\u001B[39m\u001B[38;5;124mRead Thread\u001B[39m\u001B[38;5;124m'\u001B[39m)\n\u001B[1;32m      5\u001B[0m plt\u001B[38;5;241m.\u001B[39mplot(trajectory[:, \u001B[38;5;241m1\u001B[39m], label\u001B[38;5;241m=\u001B[39m\u001B[38;5;124m'\u001B[39m\u001B[38;5;124mNetwork Thread\u001B[39m\u001B[38;5;124m'\u001B[39m)\n\u001B[1;32m      6\u001B[0m plt\u001B[38;5;241m.\u001B[39mplot(trajectory[:, \u001B[38;5;241m2\u001B[39m], label\u001B[38;5;241m=\u001B[39m\u001B[38;5;124m'\u001B[39m\u001B[38;5;124mWrite Thread\u001B[39m\u001B[38;5;124m'\u001B[39m)\n",
      "\u001B[0;31mIndexError\u001B[0m: too many indices for array: array is 1-dimensional, but 2 were indexed"
     ]
    },
    {
     "data": {
      "text/plain": [
       "<Figure size 1000x600 with 0 Axes>"
      ]
     },
     "metadata": {},
     "output_type": "display_data"
    }
   ],
   "execution_count": 15
  },
  {
   "cell_type": "code",
   "metadata": {
    "id": "M5NOfP4r9no4",
    "outputId": "8bf097e0-1751-4554-98f1-fc01b4e0cd67",
    "ExecuteTime": {
     "end_time": "2024-12-05T06:32:02.380051185Z",
     "start_time": "2024-12-05T00:54:09.967861Z"
    }
   },
   "source": "plot_rewards(rewards, 'PPO Training Rewards')",
   "outputs": [
    {
     "data": {
      "text/plain": [
       "<Figure size 1000x600 with 1 Axes>"
      ],
      "image/png": "[encoded data removed]"
     },
     "metadata": {},
     "output_type": "display_data"
    }
   ],
   "execution_count": 17
  },
  {
   "cell_type": "code",
   "execution_count": null,
   "metadata": {
    "id": "B0LNWlo2rXLy"
   },
   "outputs": [],
   "source": []
  }
 ],
 "metadata": {
  "colab": {
   "include_colab_link": true,
   "provenance": []
  },
  "kernelspec": {
   "display_name": "Python 3 (ipykernel)",
   "name": "python3",
   "language": "python"
  },
  "language_info": {
   "codemirror_mode": {
    "name": "ipython",
    "version": 3
   },
   "file_extension": ".py",
   "mimetype": "text/x-python",
   "name": "python",
   "nbconvert_exporter": "python",
   "pygments_lexer": "ipython3",
   "version": "3.12.4"
  }
 },
 "nbformat": 4,
 "nbformat_minor": 0
}
